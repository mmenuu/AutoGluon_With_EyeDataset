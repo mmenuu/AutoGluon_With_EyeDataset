{
  "cells": [
    {
      "cell_type": "code",
      "execution_count": null,
      "metadata": {
        "colab": {
          "base_uri": "https://localhost:8080/"
        },
        "id": "7lIEbIgPLu1P",
        "outputId": "9091c809-7923-4a98-d347-bc739bbab16a"
      },
      "outputs": [
        {
          "name": "stdout",
          "output_type": "stream",
          "text": [
            "Drive already mounted at /content/drive; to attempt to forcibly remount, call drive.mount(\"/content/drive\", force_remount=True).\n"
          ]
        }
      ],
      "source": [
        "from google.colab import drive\n",
        "drive.mount('/content/drive')"
      ]
    },
    {
      "cell_type": "code",
      "execution_count": null,
      "metadata": {
        "colab": {
          "base_uri": "https://localhost:8080/"
        },
        "id": "WGYWF2v3MqOM",
        "outputId": "fae068aa-1d9a-48f9-afc5-f73a026b2d2c"
      },
      "outputs": [
        {
          "name": "stdout",
          "output_type": "stream",
          "text": [
            "Looking in indexes: https://pypi.org/simple, https://us-python.pkg.dev/colab-wheels/public/simple/\n",
            "Collecting mxnet-cu100\n",
            "  Downloading mxnet_cu100-1.9.0-py3-none-manylinux2014_x86_64.whl (354.0 MB)\n",
            "\u001b[K     |████████████████████████████████| 354.0 MB 4.8 kB/s \n",
            "\u001b[?25hCollecting graphviz<0.9.0,>=0.8.1\n",
            "  Downloading graphviz-0.8.4-py2.py3-none-any.whl (16 kB)\n",
            "Requirement already satisfied: numpy<2.0.0,>1.16.0 in /usr/local/lib/python3.7/dist-packages (from mxnet-cu100) (1.21.6)\n",
            "Requirement already satisfied: requests<3,>=2.20.0 in /usr/local/lib/python3.7/dist-packages (from mxnet-cu100) (2.23.0)\n",
            "Requirement already satisfied: idna<3,>=2.5 in /usr/local/lib/python3.7/dist-packages (from requests<3,>=2.20.0->mxnet-cu100) (2.10)\n",
            "Requirement already satisfied: certifi>=2017.4.17 in /usr/local/lib/python3.7/dist-packages (from requests<3,>=2.20.0->mxnet-cu100) (2022.6.15)\n",
            "Requirement already satisfied: chardet<4,>=3.0.2 in /usr/local/lib/python3.7/dist-packages (from requests<3,>=2.20.0->mxnet-cu100) (3.0.4)\n",
            "Requirement already satisfied: urllib3!=1.25.0,!=1.25.1,<1.26,>=1.21.1 in /usr/local/lib/python3.7/dist-packages (from requests<3,>=2.20.0->mxnet-cu100) (1.25.11)\n",
            "Installing collected packages: graphviz, mxnet-cu100\n",
            "  Attempting uninstall: graphviz\n",
            "    Found existing installation: graphviz 0.10.1\n",
            "    Uninstalling graphviz-0.10.1:\n",
            "      Successfully uninstalled graphviz-0.10.1\n",
            "Successfully installed graphviz-0.8.4 mxnet-cu100-1.9.0\n",
            "Looking in indexes: https://pypi.org/simple, https://us-python.pkg.dev/colab-wheels/public/simple/\n",
            "Requirement already satisfied: autogluon in /usr/local/lib/python3.7/dist-packages (0.5.2)\n",
            "Requirement already satisfied: autogluon.tabular[all]==0.5.2 in /usr/local/lib/python3.7/dist-packages (from autogluon) (0.5.2)\n",
            "Requirement already satisfied: autogluon.timeseries[all]==0.5.2 in /usr/local/lib/python3.7/dist-packages (from autogluon) (0.5.2)\n",
            "Requirement already satisfied: autogluon.multimodal==0.5.2 in /usr/local/lib/python3.7/dist-packages (from autogluon) (0.5.2)\n",
            "Requirement already satisfied: autogluon.vision==0.5.2 in /usr/local/lib/python3.7/dist-packages (from autogluon) (0.5.2)\n",
            "Requirement already satisfied: autogluon.core[all]==0.5.2 in /usr/local/lib/python3.7/dist-packages (from autogluon) (0.5.2)\n",
            "Requirement already satisfied: autogluon.features==0.5.2 in /usr/local/lib/python3.7/dist-packages (from autogluon) (0.5.2)\n",
            "Requirement already satisfied: autogluon.text==0.5.2 in /usr/local/lib/python3.7/dist-packages (from autogluon) (0.5.2)\n",
            "Requirement already satisfied: dask<=2021.11.2,>=2021.09.1 in /usr/local/lib/python3.7/dist-packages (from autogluon.core[all]==0.5.2->autogluon) (2021.11.2)\n",
            "Requirement already satisfied: boto3 in /usr/local/lib/python3.7/dist-packages (from autogluon.core[all]==0.5.2->autogluon) (1.24.75)\n",
            "Requirement already satisfied: autogluon.common==0.5.2 in /usr/local/lib/python3.7/dist-packages (from autogluon.core[all]==0.5.2->autogluon) (0.5.2)\n",
            "Requirement already satisfied: scipy<1.8.0,>=1.5.4 in /usr/local/lib/python3.7/dist-packages (from autogluon.core[all]==0.5.2->autogluon) (1.7.3)\n",
            "Requirement already satisfied: tqdm>=4.38.0 in /usr/local/lib/python3.7/dist-packages (from autogluon.core[all]==0.5.2->autogluon) (4.64.1)\n",
            "Requirement already satisfied: requests in /usr/local/lib/python3.7/dist-packages (from autogluon.core[all]==0.5.2->autogluon) (2.23.0)\n",
            "Requirement already satisfied: matplotlib in /usr/local/lib/python3.7/dist-packages (from autogluon.core[all]==0.5.2->autogluon) (3.2.2)\n",
            "Requirement already satisfied: pandas!=1.4.0,<1.5,>=1.2.5 in /usr/local/lib/python3.7/dist-packages (from autogluon.core[all]==0.5.2->autogluon) (1.3.5)\n",
            "Requirement already satisfied: numpy<1.23,>=1.21 in /usr/local/lib/python3.7/dist-packages (from autogluon.core[all]==0.5.2->autogluon) (1.21.6)\n",
            "Requirement already satisfied: scikit-learn<1.1,>=1.0.0 in /usr/local/lib/python3.7/dist-packages (from autogluon.core[all]==0.5.2->autogluon) (1.0.2)\n",
            "Requirement already satisfied: distributed<=2021.11.2,>=2021.09.1 in /usr/local/lib/python3.7/dist-packages (from autogluon.core[all]==0.5.2->autogluon) (2021.11.2)\n",
            "Requirement already satisfied: ray[tune]<1.14,>=1.13 in /usr/local/lib/python3.7/dist-packages (from autogluon.core[all]==0.5.2->autogluon) (1.13.0)\n",
            "Requirement already satisfied: hyperopt<0.2.8,>=0.2.7 in /usr/local/lib/python3.7/dist-packages (from autogluon.core[all]==0.5.2->autogluon) (0.2.7)\n",
            "Requirement already satisfied: psutil<6,>=5.7.3 in /usr/local/lib/python3.7/dist-packages (from autogluon.features==0.5.2->autogluon) (5.8.0)\n",
            "Requirement already satisfied: torchvision<0.14.0 in /usr/local/lib/python3.7/dist-packages (from autogluon.multimodal==0.5.2->autogluon) (0.13.1+cu113)\n",
            "Requirement already satisfied: torch<1.13,>=1.9 in /usr/local/lib/python3.7/dist-packages (from autogluon.multimodal==0.5.2->autogluon) (1.12.1+cu113)\n",
            "Requirement already satisfied: nlpaug<=1.1.10,>=1.1.10 in /usr/local/lib/python3.7/dist-packages (from autogluon.multimodal==0.5.2->autogluon) (1.1.10)\n",
            "Requirement already satisfied: omegaconf<2.2.0,>=2.1.1 in /usr/local/lib/python3.7/dist-packages (from autogluon.multimodal==0.5.2->autogluon) (2.1.2)\n",
            "Requirement already satisfied: protobuf<=3.18.1 in /usr/local/lib/python3.7/dist-packages (from autogluon.multimodal==0.5.2->autogluon) (3.17.3)\n",
            "Requirement already satisfied: transformers<4.21.0,>=4.18.0 in /usr/local/lib/python3.7/dist-packages (from autogluon.multimodal==0.5.2->autogluon) (4.20.1)\n",
            "Requirement already satisfied: torchtext<0.14.0 in /usr/local/lib/python3.7/dist-packages (from autogluon.multimodal==0.5.2->autogluon) (0.13.1)\n",
            "Requirement already satisfied: scikit-image<0.20.0,>=0.19.1 in /usr/local/lib/python3.7/dist-packages (from autogluon.multimodal==0.5.2->autogluon) (0.19.3)\n",
            "Requirement already satisfied: sentencepiece<0.2.0,>=0.1.95 in /usr/local/lib/python3.7/dist-packages (from autogluon.multimodal==0.5.2->autogluon) (0.1.95)\n",
            "Requirement already satisfied: pytorch-lightning<1.7.0,>=1.6.0 in /usr/local/lib/python3.7/dist-packages (from autogluon.multimodal==0.5.2->autogluon) (1.6.5)\n",
            "Requirement already satisfied: nptyping<1.5.0,>=1.4.4 in /usr/local/lib/python3.7/dist-packages (from autogluon.multimodal==0.5.2->autogluon) (1.4.4)\n",
            "Requirement already satisfied: fairscale<=0.4.6,>=0.4.5 in /usr/local/lib/python3.7/dist-packages (from autogluon.multimodal==0.5.2->autogluon) (0.4.6)\n",
            "Requirement already satisfied: pytorch-metric-learning<1.4.0,>=1.3.0 in /usr/local/lib/python3.7/dist-packages (from autogluon.multimodal==0.5.2->autogluon) (1.3.2)\n",
            "Requirement already satisfied: timm<0.6.0 in /usr/local/lib/python3.7/dist-packages (from autogluon.multimodal==0.5.2->autogluon) (0.5.4)\n",
            "Requirement already satisfied: Pillow<9.1.0,>=9.0.1 in /usr/local/lib/python3.7/dist-packages (from autogluon.multimodal==0.5.2->autogluon) (9.0.1)\n",
            "Requirement already satisfied: nltk<4.0.0,>=3.4.5 in /usr/local/lib/python3.7/dist-packages (from autogluon.multimodal==0.5.2->autogluon) (3.7)\n",
            "Requirement already satisfied: torchmetrics<0.8.0,>=0.7.2 in /usr/local/lib/python3.7/dist-packages (from autogluon.multimodal==0.5.2->autogluon) (0.7.3)\n",
            "Requirement already satisfied: smart-open<5.3.0,>=5.2.1 in /usr/local/lib/python3.7/dist-packages (from autogluon.multimodal==0.5.2->autogluon) (5.2.1)\n",
            "Requirement already satisfied: networkx<3.0,>=2.3 in /usr/local/lib/python3.7/dist-packages (from autogluon.tabular[all]==0.5.2->autogluon) (2.6.3)\n",
            "Requirement already satisfied: lightgbm<3.4,>=3.3 in /usr/local/lib/python3.7/dist-packages (from autogluon.tabular[all]==0.5.2->autogluon) (3.3.2)\n",
            "Requirement already satisfied: xgboost<1.5,>=1.4 in /usr/local/lib/python3.7/dist-packages (from autogluon.tabular[all]==0.5.2->autogluon) (1.4.2)\n",
            "Requirement already satisfied: fastai<2.8,>=2.3.1 in /usr/local/lib/python3.7/dist-packages (from autogluon.tabular[all]==0.5.2->autogluon) (2.7.9)\n",
            "Requirement already satisfied: catboost<1.1,>=1.0 in /usr/local/lib/python3.7/dist-packages (from autogluon.tabular[all]==0.5.2->autogluon) (1.0.6)\n",
            "Requirement already satisfied: autogluon-contrib-nlp==0.0.1b20220208 in /usr/local/lib/python3.7/dist-packages (from autogluon.text==0.5.2->autogluon) (0.0.1b20220208)\n",
            "Requirement already satisfied: pyarrow in /usr/local/lib/python3.7/dist-packages (from autogluon-contrib-nlp==0.0.1b20220208->autogluon.text==0.5.2->autogluon) (6.0.1)\n",
            "Requirement already satisfied: tokenizers>=0.9.4 in /usr/local/lib/python3.7/dist-packages (from autogluon-contrib-nlp==0.0.1b20220208->autogluon.text==0.5.2->autogluon) (0.12.1)\n",
            "Requirement already satisfied: sacremoses>=0.0.38 in /usr/local/lib/python3.7/dist-packages (from autogluon-contrib-nlp==0.0.1b20220208->autogluon.text==0.5.2->autogluon) (0.0.53)\n",
            "Requirement already satisfied: flake8 in /usr/local/lib/python3.7/dist-packages (from autogluon-contrib-nlp==0.0.1b20220208->autogluon.text==0.5.2->autogluon) (3.9.2)\n",
            "Requirement already satisfied: sacrebleu in /usr/local/lib/python3.7/dist-packages (from autogluon-contrib-nlp==0.0.1b20220208->autogluon.text==0.5.2->autogluon) (2.2.1)\n",
            "Requirement already satisfied: contextvars in /usr/local/lib/python3.7/dist-packages (from autogluon-contrib-nlp==0.0.1b20220208->autogluon.text==0.5.2->autogluon) (2.4)\n",
            "Requirement already satisfied: yacs>=0.1.6 in /usr/local/lib/python3.7/dist-packages (from autogluon-contrib-nlp==0.0.1b20220208->autogluon.text==0.5.2->autogluon) (0.1.8)\n",
            "Requirement already satisfied: regex in /usr/local/lib/python3.7/dist-packages (from autogluon-contrib-nlp==0.0.1b20220208->autogluon.text==0.5.2->autogluon) (2022.6.2)\n",
            "Requirement already satisfied: gluonts<0.10.0,>=0.8.0 in /usr/local/lib/python3.7/dist-packages (from autogluon.timeseries[all]==0.5.2->autogluon) (0.9.9)\n",
            "Requirement already satisfied: tbats~=1.1 in /usr/local/lib/python3.7/dist-packages (from autogluon.timeseries[all]==0.5.2->autogluon) (1.1.0)\n",
            "Requirement already satisfied: pmdarima~=1.8.2 in /usr/local/lib/python3.7/dist-packages (from autogluon.timeseries[all]==0.5.2->autogluon) (1.8.5)\n",
            "Requirement already satisfied: sktime~=0.11.4 in /usr/local/lib/python3.7/dist-packages (from autogluon.timeseries[all]==0.5.2->autogluon) (0.11.4)\n",
            "Requirement already satisfied: gluoncv<0.10.6,>=0.10.5 in /usr/local/lib/python3.7/dist-packages (from autogluon.vision==0.5.2->autogluon) (0.10.5.post0)\n",
            "Requirement already satisfied: six in /usr/local/lib/python3.7/dist-packages (from catboost<1.1,>=1.0->autogluon.tabular[all]==0.5.2->autogluon) (1.15.0)\n",
            "Requirement already satisfied: graphviz in /usr/local/lib/python3.7/dist-packages (from catboost<1.1,>=1.0->autogluon.tabular[all]==0.5.2->autogluon) (0.8.4)\n",
            "Requirement already satisfied: plotly in /usr/local/lib/python3.7/dist-packages (from catboost<1.1,>=1.0->autogluon.tabular[all]==0.5.2->autogluon) (5.5.0)\n",
            "Requirement already satisfied: pyyaml in /usr/local/lib/python3.7/dist-packages (from dask<=2021.11.2,>=2021.09.1->autogluon.core[all]==0.5.2->autogluon) (6.0)\n",
            "Requirement already satisfied: toolz>=0.8.2 in /usr/local/lib/python3.7/dist-packages (from dask<=2021.11.2,>=2021.09.1->autogluon.core[all]==0.5.2->autogluon) (0.12.0)\n",
            "Requirement already satisfied: partd>=0.3.10 in /usr/local/lib/python3.7/dist-packages (from dask<=2021.11.2,>=2021.09.1->autogluon.core[all]==0.5.2->autogluon) (1.3.0)\n",
            "Requirement already satisfied: fsspec>=0.6.0 in /usr/local/lib/python3.7/dist-packages (from dask<=2021.11.2,>=2021.09.1->autogluon.core[all]==0.5.2->autogluon) (2022.8.2)\n",
            "Requirement already satisfied: packaging>=20.0 in /usr/local/lib/python3.7/dist-packages (from dask<=2021.11.2,>=2021.09.1->autogluon.core[all]==0.5.2->autogluon) (21.3)\n",
            "Requirement already satisfied: cloudpickle>=1.1.1 in /usr/local/lib/python3.7/dist-packages (from dask<=2021.11.2,>=2021.09.1->autogluon.core[all]==0.5.2->autogluon) (1.5.0)\n",
            "Requirement already satisfied: jinja2 in /usr/local/lib/python3.7/dist-packages (from distributed<=2021.11.2,>=2021.09.1->autogluon.core[all]==0.5.2->autogluon) (2.11.3)\n",
            "Requirement already satisfied: click>=6.6 in /usr/local/lib/python3.7/dist-packages (from distributed<=2021.11.2,>=2021.09.1->autogluon.core[all]==0.5.2->autogluon) (7.1.2)\n",
            "Requirement already satisfied: msgpack>=0.6.0 in /usr/local/lib/python3.7/dist-packages (from distributed<=2021.11.2,>=2021.09.1->autogluon.core[all]==0.5.2->autogluon) (1.0.4)\n",
            "Requirement already satisfied: sortedcontainers!=2.0.0,!=2.0.1 in /usr/local/lib/python3.7/dist-packages (from distributed<=2021.11.2,>=2021.09.1->autogluon.core[all]==0.5.2->autogluon) (2.4.0)\n",
            "Requirement already satisfied: tblib>=1.6.0 in /usr/local/lib/python3.7/dist-packages (from distributed<=2021.11.2,>=2021.09.1->autogluon.core[all]==0.5.2->autogluon) (1.7.0)\n",
            "Requirement already satisfied: zict>=0.1.3 in /usr/local/lib/python3.7/dist-packages (from distributed<=2021.11.2,>=2021.09.1->autogluon.core[all]==0.5.2->autogluon) (2.2.0)\n",
            "Requirement already satisfied: setuptools in /usr/local/lib/python3.7/dist-packages (from distributed<=2021.11.2,>=2021.09.1->autogluon.core[all]==0.5.2->autogluon) (57.4.0)\n",
            "Requirement already satisfied: tornado>=5 in /usr/local/lib/python3.7/dist-packages (from distributed<=2021.11.2,>=2021.09.1->autogluon.core[all]==0.5.2->autogluon) (5.1.1)\n",
            "Requirement already satisfied: fastprogress>=0.2.4 in /usr/local/lib/python3.7/dist-packages (from fastai<2.8,>=2.3.1->autogluon.tabular[all]==0.5.2->autogluon) (1.0.3)\n",
            "Requirement already satisfied: spacy<4 in /usr/local/lib/python3.7/dist-packages (from fastai<2.8,>=2.3.1->autogluon.tabular[all]==0.5.2->autogluon) (3.4.1)\n",
            "Requirement already satisfied: fastdownload<2,>=0.0.5 in /usr/local/lib/python3.7/dist-packages (from fastai<2.8,>=2.3.1->autogluon.tabular[all]==0.5.2->autogluon) (0.0.7)\n",
            "Requirement already satisfied: fastcore<1.6,>=1.4.5 in /usr/local/lib/python3.7/dist-packages (from fastai<2.8,>=2.3.1->autogluon.tabular[all]==0.5.2->autogluon) (1.5.25)\n",
            "Requirement already satisfied: pip in /usr/local/lib/python3.7/dist-packages (from fastai<2.8,>=2.3.1->autogluon.tabular[all]==0.5.2->autogluon) (21.1.3)\n",
            "Requirement already satisfied: opencv-python in /usr/local/lib/python3.7/dist-packages (from gluoncv<0.10.6,>=0.10.5->autogluon.vision==0.5.2->autogluon) (4.6.0.66)\n",
            "Requirement already satisfied: autocfg in /usr/local/lib/python3.7/dist-packages (from gluoncv<0.10.6,>=0.10.5->autogluon.vision==0.5.2->autogluon) (0.0.8)\n",
            "Requirement already satisfied: portalocker in /usr/local/lib/python3.7/dist-packages (from gluoncv<0.10.6,>=0.10.5->autogluon.vision==0.5.2->autogluon) (2.5.1)\n",
            "Requirement already satisfied: pydantic~=1.1 in /usr/local/lib/python3.7/dist-packages (from gluonts<0.10.0,>=0.8.0->autogluon.timeseries[all]==0.5.2->autogluon) (1.9.2)\n",
            "Requirement already satisfied: holidays>=0.9 in /usr/local/lib/python3.7/dist-packages (from gluonts<0.10.0,>=0.8.0->autogluon.timeseries[all]==0.5.2->autogluon) (0.15)\n",
            "Requirement already satisfied: typing-extensions~=4.0 in /usr/local/lib/python3.7/dist-packages (from gluonts<0.10.0,>=0.8.0->autogluon.timeseries[all]==0.5.2->autogluon) (4.1.1)\n",
            "Requirement already satisfied: hijri-converter in /usr/local/lib/python3.7/dist-packages (from holidays>=0.9->gluonts<0.10.0,>=0.8.0->autogluon.timeseries[all]==0.5.2->autogluon) (2.2.4)\n",
            "Requirement already satisfied: korean-lunar-calendar in /usr/local/lib/python3.7/dist-packages (from holidays>=0.9->gluonts<0.10.0,>=0.8.0->autogluon.timeseries[all]==0.5.2->autogluon) (0.2.1)\n",
            "Requirement already satisfied: python-dateutil in /usr/local/lib/python3.7/dist-packages (from holidays>=0.9->gluonts<0.10.0,>=0.8.0->autogluon.timeseries[all]==0.5.2->autogluon) (2.8.2)\n",
            "Requirement already satisfied: convertdate>=2.3.0 in /usr/local/lib/python3.7/dist-packages (from holidays>=0.9->gluonts<0.10.0,>=0.8.0->autogluon.timeseries[all]==0.5.2->autogluon) (2.4.0)\n",
            "Requirement already satisfied: pymeeus<=1,>=0.3.13 in /usr/local/lib/python3.7/dist-packages (from convertdate>=2.3.0->holidays>=0.9->gluonts<0.10.0,>=0.8.0->autogluon.timeseries[all]==0.5.2->autogluon) (0.5.11)\n",
            "Requirement already satisfied: py4j in /usr/local/lib/python3.7/dist-packages (from hyperopt<0.2.8,>=0.2.7->autogluon.core[all]==0.5.2->autogluon) (0.10.9.7)\n",
            "Requirement already satisfied: future in /usr/local/lib/python3.7/dist-packages (from hyperopt<0.2.8,>=0.2.7->autogluon.core[all]==0.5.2->autogluon) (0.16.0)\n",
            "Requirement already satisfied: wheel in /usr/local/lib/python3.7/dist-packages (from lightgbm<3.4,>=3.3->autogluon.tabular[all]==0.5.2->autogluon) (0.37.1)\n",
            "Requirement already satisfied: cycler>=0.10 in /usr/local/lib/python3.7/dist-packages (from matplotlib->autogluon.core[all]==0.5.2->autogluon) (0.11.0)\n",
            "Requirement already satisfied: pyparsing!=2.0.4,!=2.1.2,!=2.1.6,>=2.0.1 in /usr/local/lib/python3.7/dist-packages (from matplotlib->autogluon.core[all]==0.5.2->autogluon) (3.0.9)\n",
            "Requirement already satisfied: kiwisolver>=1.0.1 in /usr/local/lib/python3.7/dist-packages (from matplotlib->autogluon.core[all]==0.5.2->autogluon) (1.4.4)\n",
            "Requirement already satisfied: joblib in /usr/local/lib/python3.7/dist-packages (from nltk<4.0.0,>=3.4.5->autogluon.multimodal==0.5.2->autogluon) (1.1.0)\n",
            "Requirement already satisfied: typish>=1.7.0 in /usr/local/lib/python3.7/dist-packages (from nptyping<1.5.0,>=1.4.4->autogluon.multimodal==0.5.2->autogluon) (1.9.3)\n",
            "Requirement already satisfied: antlr4-python3-runtime==4.8 in /usr/local/lib/python3.7/dist-packages (from omegaconf<2.2.0,>=2.1.1->autogluon.multimodal==0.5.2->autogluon) (4.8)\n",
            "Requirement already satisfied: pytz>=2017.3 in /usr/local/lib/python3.7/dist-packages (from pandas!=1.4.0,<1.5,>=1.2.5->autogluon.core[all]==0.5.2->autogluon) (2022.2.1)\n",
            "Requirement already satisfied: locket in /usr/local/lib/python3.7/dist-packages (from partd>=0.3.10->dask<=2021.11.2,>=2021.09.1->autogluon.core[all]==0.5.2->autogluon) (1.0.0)\n",
            "Requirement already satisfied: Cython!=0.29.18,>=0.29 in /usr/local/lib/python3.7/dist-packages (from pmdarima~=1.8.2->autogluon.timeseries[all]==0.5.2->autogluon) (0.29.32)\n",
            "Requirement already satisfied: urllib3 in /usr/local/lib/python3.7/dist-packages (from pmdarima~=1.8.2->autogluon.timeseries[all]==0.5.2->autogluon) (1.25.11)\n",
            "Requirement already satisfied: statsmodels!=0.12.0,>=0.11 in /usr/local/lib/python3.7/dist-packages (from pmdarima~=1.8.2->autogluon.timeseries[all]==0.5.2->autogluon) (0.12.2)\n",
            "Requirement already satisfied: pyDeprecate>=0.3.1 in /usr/local/lib/python3.7/dist-packages (from pytorch-lightning<1.7.0,>=1.6.0->autogluon.multimodal==0.5.2->autogluon) (0.3.2)\n",
            "Requirement already satisfied: tensorboard>=2.2.0 in /usr/local/lib/python3.7/dist-packages (from pytorch-lightning<1.7.0,>=1.6.0->autogluon.multimodal==0.5.2->autogluon) (2.8.0)\n",
            "Requirement already satisfied: aiohttp!=4.0.0a0,!=4.0.0a1 in /usr/local/lib/python3.7/dist-packages (from fsspec>=0.6.0->dask<=2021.11.2,>=2021.09.1->autogluon.core[all]==0.5.2->autogluon) (3.8.1)\n",
            "Requirement already satisfied: asynctest==0.13.0 in /usr/local/lib/python3.7/dist-packages (from aiohttp!=4.0.0a0,!=4.0.0a1->fsspec>=0.6.0->dask<=2021.11.2,>=2021.09.1->autogluon.core[all]==0.5.2->autogluon) (0.13.0)\n",
            "Requirement already satisfied: attrs>=17.3.0 in /usr/local/lib/python3.7/dist-packages (from aiohttp!=4.0.0a0,!=4.0.0a1->fsspec>=0.6.0->dask<=2021.11.2,>=2021.09.1->autogluon.core[all]==0.5.2->autogluon) (22.1.0)\n",
            "Requirement already satisfied: multidict<7.0,>=4.5 in /usr/local/lib/python3.7/dist-packages (from aiohttp!=4.0.0a0,!=4.0.0a1->fsspec>=0.6.0->dask<=2021.11.2,>=2021.09.1->autogluon.core[all]==0.5.2->autogluon) (6.0.2)\n",
            "Requirement already satisfied: charset-normalizer<3.0,>=2.0 in /usr/local/lib/python3.7/dist-packages (from aiohttp!=4.0.0a0,!=4.0.0a1->fsspec>=0.6.0->dask<=2021.11.2,>=2021.09.1->autogluon.core[all]==0.5.2->autogluon) (2.1.1)\n",
            "Requirement already satisfied: yarl<2.0,>=1.0 in /usr/local/lib/python3.7/dist-packages (from aiohttp!=4.0.0a0,!=4.0.0a1->fsspec>=0.6.0->dask<=2021.11.2,>=2021.09.1->autogluon.core[all]==0.5.2->autogluon) (1.8.1)\n",
            "Requirement already satisfied: frozenlist>=1.1.1 in /usr/local/lib/python3.7/dist-packages (from aiohttp!=4.0.0a0,!=4.0.0a1->fsspec>=0.6.0->dask<=2021.11.2,>=2021.09.1->autogluon.core[all]==0.5.2->autogluon) (1.3.1)\n",
            "Requirement already satisfied: async-timeout<5.0,>=4.0.0a3 in /usr/local/lib/python3.7/dist-packages (from aiohttp!=4.0.0a0,!=4.0.0a1->fsspec>=0.6.0->dask<=2021.11.2,>=2021.09.1->autogluon.core[all]==0.5.2->autogluon) (4.0.2)\n",
            "Requirement already satisfied: aiosignal>=1.1.2 in /usr/local/lib/python3.7/dist-packages (from aiohttp!=4.0.0a0,!=4.0.0a1->fsspec>=0.6.0->dask<=2021.11.2,>=2021.09.1->autogluon.core[all]==0.5.2->autogluon) (1.2.0)\n",
            "Requirement already satisfied: grpcio<=1.43.0,>=1.28.1 in /usr/local/lib/python3.7/dist-packages (from ray[tune]<1.14,>=1.13->autogluon.core[all]==0.5.2->autogluon) (1.43.0)\n",
            "Requirement already satisfied: jsonschema in /usr/local/lib/python3.7/dist-packages (from ray[tune]<1.14,>=1.13->autogluon.core[all]==0.5.2->autogluon) (4.3.3)\n",
            "Requirement already satisfied: virtualenv in /usr/local/lib/python3.7/dist-packages (from ray[tune]<1.14,>=1.13->autogluon.core[all]==0.5.2->autogluon) (20.16.5)\n",
            "Requirement already satisfied: filelock in /usr/local/lib/python3.7/dist-packages (from ray[tune]<1.14,>=1.13->autogluon.core[all]==0.5.2->autogluon) (3.8.0)\n",
            "Requirement already satisfied: tensorboardX>=1.9 in /usr/local/lib/python3.7/dist-packages (from ray[tune]<1.14,>=1.13->autogluon.core[all]==0.5.2->autogluon) (2.5.1)\n",
            "Requirement already satisfied: tabulate in /usr/local/lib/python3.7/dist-packages (from ray[tune]<1.14,>=1.13->autogluon.core[all]==0.5.2->autogluon) (0.8.10)\n",
            "Requirement already satisfied: idna<3,>=2.5 in /usr/local/lib/python3.7/dist-packages (from requests->autogluon.core[all]==0.5.2->autogluon) (2.10)\n",
            "Requirement already satisfied: chardet<4,>=3.0.2 in /usr/local/lib/python3.7/dist-packages (from requests->autogluon.core[all]==0.5.2->autogluon) (3.0.4)\n",
            "Requirement already satisfied: certifi>=2017.4.17 in /usr/local/lib/python3.7/dist-packages (from requests->autogluon.core[all]==0.5.2->autogluon) (2022.6.15)\n",
            "Requirement already satisfied: imageio>=2.4.1 in /usr/local/lib/python3.7/dist-packages (from scikit-image<0.20.0,>=0.19.1->autogluon.multimodal==0.5.2->autogluon) (2.9.0)\n",
            "Requirement already satisfied: PyWavelets>=1.1.1 in /usr/local/lib/python3.7/dist-packages (from scikit-image<0.20.0,>=0.19.1->autogluon.multimodal==0.5.2->autogluon) (1.3.0)\n",
            "Requirement already satisfied: tifffile>=2019.7.26 in /usr/local/lib/python3.7/dist-packages (from scikit-image<0.20.0,>=0.19.1->autogluon.multimodal==0.5.2->autogluon) (2021.11.2)\n",
            "Requirement already satisfied: threadpoolctl>=2.0.0 in /usr/local/lib/python3.7/dist-packages (from scikit-learn<1.1,>=1.0.0->autogluon.core[all]==0.5.2->autogluon) (3.1.0)\n",
            "Requirement already satisfied: deprecated>=1.2.13 in /usr/local/lib/python3.7/dist-packages (from sktime~=0.11.4->autogluon.timeseries[all]==0.5.2->autogluon) (1.2.13)\n",
            "Requirement already satisfied: numba>=0.53 in /usr/local/lib/python3.7/dist-packages (from sktime~=0.11.4->autogluon.timeseries[all]==0.5.2->autogluon) (0.56.2)\n",
            "Requirement already satisfied: wrapt<2,>=1.10 in /usr/local/lib/python3.7/dist-packages (from deprecated>=1.2.13->sktime~=0.11.4->autogluon.timeseries[all]==0.5.2->autogluon) (1.14.1)\n",
            "Requirement already satisfied: importlib-metadata in /usr/local/lib/python3.7/dist-packages (from numba>=0.53->sktime~=0.11.4->autogluon.timeseries[all]==0.5.2->autogluon) (4.12.0)\n",
            "Requirement already satisfied: llvmlite<0.40,>=0.39.0dev0 in /usr/local/lib/python3.7/dist-packages (from numba>=0.53->sktime~=0.11.4->autogluon.timeseries[all]==0.5.2->autogluon) (0.39.1)\n",
            "Requirement already satisfied: preshed<3.1.0,>=3.0.2 in /usr/local/lib/python3.7/dist-packages (from spacy<4->fastai<2.8,>=2.3.1->autogluon.tabular[all]==0.5.2->autogluon) (3.0.7)\n",
            "Requirement already satisfied: srsly<3.0.0,>=2.4.3 in /usr/local/lib/python3.7/dist-packages (from spacy<4->fastai<2.8,>=2.3.1->autogluon.tabular[all]==0.5.2->autogluon) (2.4.4)\n",
            "Requirement already satisfied: langcodes<4.0.0,>=3.2.0 in /usr/local/lib/python3.7/dist-packages (from spacy<4->fastai<2.8,>=2.3.1->autogluon.tabular[all]==0.5.2->autogluon) (3.3.0)\n",
            "Requirement already satisfied: cymem<2.1.0,>=2.0.2 in /usr/local/lib/python3.7/dist-packages (from spacy<4->fastai<2.8,>=2.3.1->autogluon.tabular[all]==0.5.2->autogluon) (2.0.6)\n",
            "Requirement already satisfied: spacy-loggers<2.0.0,>=1.0.0 in /usr/local/lib/python3.7/dist-packages (from spacy<4->fastai<2.8,>=2.3.1->autogluon.tabular[all]==0.5.2->autogluon) (1.0.3)\n",
            "Requirement already satisfied: wasabi<1.1.0,>=0.9.1 in /usr/local/lib/python3.7/dist-packages (from spacy<4->fastai<2.8,>=2.3.1->autogluon.tabular[all]==0.5.2->autogluon) (0.10.1)\n",
            "Requirement already satisfied: catalogue<2.1.0,>=2.0.6 in /usr/local/lib/python3.7/dist-packages (from spacy<4->fastai<2.8,>=2.3.1->autogluon.tabular[all]==0.5.2->autogluon) (2.0.8)\n",
            "Requirement already satisfied: murmurhash<1.1.0,>=0.28.0 in /usr/local/lib/python3.7/dist-packages (from spacy<4->fastai<2.8,>=2.3.1->autogluon.tabular[all]==0.5.2->autogluon) (1.0.8)\n",
            "Requirement already satisfied: spacy-legacy<3.1.0,>=3.0.9 in /usr/local/lib/python3.7/dist-packages (from spacy<4->fastai<2.8,>=2.3.1->autogluon.tabular[all]==0.5.2->autogluon) (3.0.10)\n",
            "Requirement already satisfied: thinc<8.2.0,>=8.1.0 in /usr/local/lib/python3.7/dist-packages (from spacy<4->fastai<2.8,>=2.3.1->autogluon.tabular[all]==0.5.2->autogluon) (8.1.0)\n",
            "Requirement already satisfied: typer<0.5.0,>=0.3.0 in /usr/local/lib/python3.7/dist-packages (from spacy<4->fastai<2.8,>=2.3.1->autogluon.tabular[all]==0.5.2->autogluon) (0.4.2)\n",
            "Requirement already satisfied: pathy>=0.3.5 in /usr/local/lib/python3.7/dist-packages (from spacy<4->fastai<2.8,>=2.3.1->autogluon.tabular[all]==0.5.2->autogluon) (0.6.2)\n",
            "Requirement already satisfied: zipp>=0.5 in /usr/local/lib/python3.7/dist-packages (from catalogue<2.1.0,>=2.0.6->spacy<4->fastai<2.8,>=2.3.1->autogluon.tabular[all]==0.5.2->autogluon) (3.8.1)\n",
            "Requirement already satisfied: patsy>=0.5 in /usr/local/lib/python3.7/dist-packages (from statsmodels!=0.12.0,>=0.11->pmdarima~=1.8.2->autogluon.timeseries[all]==0.5.2->autogluon) (0.5.2)\n",
            "Requirement already satisfied: markdown>=2.6.8 in /usr/local/lib/python3.7/dist-packages (from tensorboard>=2.2.0->pytorch-lightning<1.7.0,>=1.6.0->autogluon.multimodal==0.5.2->autogluon) (3.4.1)\n",
            "Requirement already satisfied: absl-py>=0.4 in /usr/local/lib/python3.7/dist-packages (from tensorboard>=2.2.0->pytorch-lightning<1.7.0,>=1.6.0->autogluon.multimodal==0.5.2->autogluon) (1.2.0)\n",
            "Requirement already satisfied: tensorboard-data-server<0.7.0,>=0.6.0 in /usr/local/lib/python3.7/dist-packages (from tensorboard>=2.2.0->pytorch-lightning<1.7.0,>=1.6.0->autogluon.multimodal==0.5.2->autogluon) (0.6.1)\n",
            "Requirement already satisfied: tensorboard-plugin-wit>=1.6.0 in /usr/local/lib/python3.7/dist-packages (from tensorboard>=2.2.0->pytorch-lightning<1.7.0,>=1.6.0->autogluon.multimodal==0.5.2->autogluon) (1.8.1)\n",
            "Requirement already satisfied: werkzeug>=0.11.15 in /usr/local/lib/python3.7/dist-packages (from tensorboard>=2.2.0->pytorch-lightning<1.7.0,>=1.6.0->autogluon.multimodal==0.5.2->autogluon) (1.0.1)\n",
            "Requirement already satisfied: google-auth-oauthlib<0.5,>=0.4.1 in /usr/local/lib/python3.7/dist-packages (from tensorboard>=2.2.0->pytorch-lightning<1.7.0,>=1.6.0->autogluon.multimodal==0.5.2->autogluon) (0.4.6)\n",
            "Requirement already satisfied: google-auth<3,>=1.6.3 in /usr/local/lib/python3.7/dist-packages (from tensorboard>=2.2.0->pytorch-lightning<1.7.0,>=1.6.0->autogluon.multimodal==0.5.2->autogluon) (1.35.0)\n",
            "Requirement already satisfied: cachetools<5.0,>=2.0.0 in /usr/local/lib/python3.7/dist-packages (from google-auth<3,>=1.6.3->tensorboard>=2.2.0->pytorch-lightning<1.7.0,>=1.6.0->autogluon.multimodal==0.5.2->autogluon) (4.2.4)\n",
            "Requirement already satisfied: pyasn1-modules>=0.2.1 in /usr/local/lib/python3.7/dist-packages (from google-auth<3,>=1.6.3->tensorboard>=2.2.0->pytorch-lightning<1.7.0,>=1.6.0->autogluon.multimodal==0.5.2->autogluon) (0.2.8)\n",
            "Requirement already satisfied: rsa<5,>=3.1.4 in /usr/local/lib/python3.7/dist-packages (from google-auth<3,>=1.6.3->tensorboard>=2.2.0->pytorch-lightning<1.7.0,>=1.6.0->autogluon.multimodal==0.5.2->autogluon) (4.9)\n",
            "Requirement already satisfied: requests-oauthlib>=0.7.0 in /usr/local/lib/python3.7/dist-packages (from google-auth-oauthlib<0.5,>=0.4.1->tensorboard>=2.2.0->pytorch-lightning<1.7.0,>=1.6.0->autogluon.multimodal==0.5.2->autogluon) (1.3.1)\n",
            "Requirement already satisfied: pyasn1<0.5.0,>=0.4.6 in /usr/local/lib/python3.7/dist-packages (from pyasn1-modules>=0.2.1->google-auth<3,>=1.6.3->tensorboard>=2.2.0->pytorch-lightning<1.7.0,>=1.6.0->autogluon.multimodal==0.5.2->autogluon) (0.4.8)\n",
            "Requirement already satisfied: oauthlib>=3.0.0 in /usr/local/lib/python3.7/dist-packages (from requests-oauthlib>=0.7.0->google-auth-oauthlib<0.5,>=0.4.1->tensorboard>=2.2.0->pytorch-lightning<1.7.0,>=1.6.0->autogluon.multimodal==0.5.2->autogluon) (3.2.0)\n",
            "Requirement already satisfied: blis<0.8.0,>=0.7.8 in /usr/local/lib/python3.7/dist-packages (from thinc<8.2.0,>=8.1.0->spacy<4->fastai<2.8,>=2.3.1->autogluon.tabular[all]==0.5.2->autogluon) (0.7.8)\n",
            "Requirement already satisfied: huggingface-hub<1.0,>=0.1.0 in /usr/local/lib/python3.7/dist-packages (from transformers<4.21.0,>=4.18.0->autogluon.multimodal==0.5.2->autogluon) (0.9.1)\n",
            "Requirement already satisfied: heapdict in /usr/local/lib/python3.7/dist-packages (from zict>=0.1.3->distributed<=2021.11.2,>=2021.09.1->autogluon.core[all]==0.5.2->autogluon) (1.0.1)\n",
            "Requirement already satisfied: s3transfer<0.7.0,>=0.6.0 in /usr/local/lib/python3.7/dist-packages (from boto3->autogluon.core[all]==0.5.2->autogluon) (0.6.0)\n",
            "Requirement already satisfied: botocore<1.28.0,>=1.27.75 in /usr/local/lib/python3.7/dist-packages (from boto3->autogluon.core[all]==0.5.2->autogluon) (1.27.75)\n",
            "Requirement already satisfied: jmespath<2.0.0,>=0.7.1 in /usr/local/lib/python3.7/dist-packages (from boto3->autogluon.core[all]==0.5.2->autogluon) (1.0.1)\n",
            "Requirement already satisfied: immutables>=0.9 in /usr/local/lib/python3.7/dist-packages (from contextvars->autogluon-contrib-nlp==0.0.1b20220208->autogluon.text==0.5.2->autogluon) (0.19)\n",
            "Requirement already satisfied: pyflakes<2.4.0,>=2.3.0 in /usr/local/lib/python3.7/dist-packages (from flake8->autogluon-contrib-nlp==0.0.1b20220208->autogluon.text==0.5.2->autogluon) (2.3.1)\n",
            "Requirement already satisfied: mccabe<0.7.0,>=0.6.0 in /usr/local/lib/python3.7/dist-packages (from flake8->autogluon-contrib-nlp==0.0.1b20220208->autogluon.text==0.5.2->autogluon) (0.6.1)\n",
            "Requirement already satisfied: pycodestyle<2.8.0,>=2.7.0 in /usr/local/lib/python3.7/dist-packages (from flake8->autogluon-contrib-nlp==0.0.1b20220208->autogluon.text==0.5.2->autogluon) (2.7.0)\n",
            "Requirement already satisfied: MarkupSafe>=0.23 in /usr/local/lib/python3.7/dist-packages (from jinja2->distributed<=2021.11.2,>=2021.09.1->autogluon.core[all]==0.5.2->autogluon) (2.0.1)\n",
            "Requirement already satisfied: importlib-resources>=1.4.0 in /usr/local/lib/python3.7/dist-packages (from jsonschema->ray[tune]<1.14,>=1.13->autogluon.core[all]==0.5.2->autogluon) (5.9.0)\n",
            "Requirement already satisfied: pyrsistent!=0.17.0,!=0.17.1,!=0.17.2,>=0.14.0 in /usr/local/lib/python3.7/dist-packages (from jsonschema->ray[tune]<1.14,>=1.13->autogluon.core[all]==0.5.2->autogluon) (0.18.1)\n",
            "Requirement already satisfied: tenacity>=6.2.0 in /usr/local/lib/python3.7/dist-packages (from plotly->catboost<1.1,>=1.0->autogluon.tabular[all]==0.5.2->autogluon) (8.0.1)\n",
            "Requirement already satisfied: colorama in /usr/local/lib/python3.7/dist-packages (from sacrebleu->autogluon-contrib-nlp==0.0.1b20220208->autogluon.text==0.5.2->autogluon) (0.4.5)\n",
            "Requirement already satisfied: lxml in /usr/local/lib/python3.7/dist-packages (from sacrebleu->autogluon-contrib-nlp==0.0.1b20220208->autogluon.text==0.5.2->autogluon) (4.9.1)\n",
            "Requirement already satisfied: distlib<1,>=0.3.5 in /usr/local/lib/python3.7/dist-packages (from virtualenv->ray[tune]<1.14,>=1.13->autogluon.core[all]==0.5.2->autogluon) (0.3.6)\n",
            "Requirement already satisfied: platformdirs<3,>=2.4 in /usr/local/lib/python3.7/dist-packages (from virtualenv->ray[tune]<1.14,>=1.13->autogluon.core[all]==0.5.2->autogluon) (2.5.2)\n"
          ]
        }
      ],
      "source": [
        "!pip install --upgrade mxnet-cu100\n",
        "!pip install autogluon"
      ]
    },
    {
      "cell_type": "code",
      "execution_count": null,
      "metadata": {
        "colab": {
          "base_uri": "https://localhost:8080/"
        },
        "id": "hnxLyYqxN2G1",
        "outputId": "a490dea0-2ac0-4864-fd69-8c8194865770"
      },
      "outputs": [
        {
          "name": "stderr",
          "output_type": "stream",
          "text": [
            "/usr/local/lib/python3.7/dist-packages/gluoncv/__init__.py:40: UserWarning: Both `mxnet==1.9.0` and `torch==1.12.1+cu113` are installed. You might encounter increased GPU memory footprint if both framework are used at the same time.\n",
            "  warnings.warn(f'Both `mxnet=={mx.__version__}` and `torch=={torch.__version__}` are installed. '\n"
          ]
        }
      ],
      "source": [
        "from autogluon.vision import ImagePredictor, ImageDataset\n",
        "dataset = ImageDataset.from_folder('/content/drive/MyDrive/Eye Diseases Virus Dateset Vol 1/Dataset v.2/train')"
      ]
    },
    {
      "cell_type": "code",
      "execution_count": null,
      "metadata": {
        "colab": {
          "background_save": true,
          "base_uri": "https://localhost:8080/"
        },
        "id": "H_FoLkE7OHF_",
        "outputId": "b4bbdb40-6a42-45b2-ebba-0bf7e7eed3a4"
      },
      "outputs": [
        {
          "name": "stderr",
          "output_type": "stream",
          "text": [
            "INFO:autogluon.vision.predictor.predictor:Reset labels to [0, 1, 2, 3]\n",
            "INFO:autogluon.vision.predictor.predictor:Randomly split train_data into train[571]/validation[64] splits.\n",
            "INFO:autogluon.vision._gluoncv.image_classification:No GPU detected/allowed, using most conservative search space.\n",
            "INFO:autogluon.vision._gluoncv.image_classification:Starting fit without HPO\n",
            "INFO:TorchImageClassificationEstimator:modified configs(<old> != <new>): {\n",
            "INFO:TorchImageClassificationEstimator:root.train.early_stop_patience -1 != 10\n",
            "INFO:TorchImageClassificationEstimator:root.train.early_stop_baseline 0.0 != -inf\n",
            "INFO:TorchImageClassificationEstimator:root.train.epochs    200 != 5\n",
            "INFO:TorchImageClassificationEstimator:root.train.batch_size 32 != 16\n",
            "INFO:TorchImageClassificationEstimator:root.train.early_stop_max_value 1.0 != inf\n",
            "INFO:TorchImageClassificationEstimator:root.gpus            (0,) != ()\n",
            "INFO:TorchImageClassificationEstimator:root.misc.seed       42 != 40\n",
            "INFO:TorchImageClassificationEstimator:root.misc.num_workers 4 != 2\n",
            "INFO:TorchImageClassificationEstimator:root.img_cls.model   resnet101 != resnet18\n",
            "INFO:TorchImageClassificationEstimator:}\n",
            "INFO:TorchImageClassificationEstimator:Saved config to /content/cb55e03a/.trial_0/config.yaml\n",
            "Downloading: \"https://download.pytorch.org/models/resnet18-5c106cde.pth\" to /root/.cache/torch/hub/checkpoints/resnet18-5c106cde.pth\n",
            "INFO:TorchImageClassificationEstimator:Model resnet18 created, param count:                                         11178564\n",
            "INFO:TorchImageClassificationEstimator:AMP not enabled. Training in float32.\n",
            "INFO:TorchImageClassificationEstimator:Disable EMA as it is not supported for now.\n",
            "INFO:TorchImageClassificationEstimator:Start training from [Epoch 0]\n",
            "INFO:TorchImageClassificationEstimator:[Epoch 0] training: accuracy=0.382143\n",
            "INFO:TorchImageClassificationEstimator:[Epoch 0] speed: 3 samples/sec\ttime cost: 152.508638\n",
            "INFO:TorchImageClassificationEstimator:[Epoch 0] validation: top1=0.406250 top5=1.000000\n",
            "INFO:TorchImageClassificationEstimator:[Epoch 0] Current best top-1: 0.406250 vs previous -inf, saved to /content/cb55e03a/.trial_0/best_checkpoint.pkl\n",
            "INFO:TorchImageClassificationEstimator:[Epoch 1] training: accuracy=0.651786\n",
            "INFO:TorchImageClassificationEstimator:[Epoch 1] speed: 4 samples/sec\ttime cost: 133.184202\n",
            "INFO:TorchImageClassificationEstimator:[Epoch 1] validation: top1=0.671875 top5=1.000000\n",
            "INFO:TorchImageClassificationEstimator:[Epoch 1] Current best top-1: 0.671875 vs previous 0.406250, saved to /content/cb55e03a/.trial_0/best_checkpoint.pkl\n",
            "INFO:TorchImageClassificationEstimator:[Epoch 2] training: accuracy=0.667857\n",
            "INFO:TorchImageClassificationEstimator:[Epoch 2] speed: 4 samples/sec\ttime cost: 130.394986\n",
            "INFO:TorchImageClassificationEstimator:[Epoch 2] validation: top1=0.671875 top5=1.000000\n",
            "INFO:TorchImageClassificationEstimator:[Epoch 3] training: accuracy=0.616071\n",
            "INFO:TorchImageClassificationEstimator:[Epoch 3] speed: 4 samples/sec\ttime cost: 128.316971\n",
            "INFO:TorchImageClassificationEstimator:[Epoch 3] validation: top1=0.390625 top5=1.000000\n",
            "INFO:TorchImageClassificationEstimator:[Epoch 4] training: accuracy=0.619643\n",
            "INFO:TorchImageClassificationEstimator:[Epoch 4] speed: 4 samples/sec\ttime cost: 133.112136\n",
            "INFO:TorchImageClassificationEstimator:[Epoch 4] validation: top1=0.609375 top5=1.000000\n",
            "INFO:TorchImageClassificationEstimator:Applying the state from the best checkpoint...\n",
            "INFO:autogluon.vision._gluoncv.image_classification:Finished, total runtime is 708.00 s\n",
            "INFO:autogluon.vision._gluoncv.image_classification:{ 'best_config': { 'batch_size': 16,\n",
            "                   'dist_ip_addrs': None,\n",
            "                   'early_stop_baseline': -inf,\n",
            "                   'early_stop_max_value': inf,\n",
            "                   'early_stop_patience': 10,\n",
            "                   'epochs': 5,\n",
            "                   'final_fit': False,\n",
            "                   'gpus': [],\n",
            "                   'lr': 0.01,\n",
            "                   'model': 'resnet18',\n",
            "                   'ngpus_per_trial': 0,\n",
            "                   'nthreads_per_trial': 32,\n",
            "                   'num_workers': 2,\n",
            "                   'searcher': 'random',\n",
            "                   'seed': 40,\n",
            "                   'time_limits': 10800},\n",
            "  'total_time': 701.1623752117157,\n",
            "  'train_acc': 0.6196428571428572,\n",
            "  'valid_acc': 0.671875}\n"
          ]
        },
        {
          "data": {
            "text/plain": [
              "<autogluon.vision.predictor.predictor.ImagePredictor at 0x7fb7caa81310>"
            ]
          },
          "execution_count": 4,
          "metadata": {},
          "output_type": "execute_result"
        }
      ],
      "source": [
        "time_limit =  3 * 60 * 60 # 10mins\n",
        "predictor = ImagePredictor()\n",
        "predictor.fit(dataset, time_limit = time_limit)"
      ]
    },
    {
      "cell_type": "code",
      "execution_count": 15,
      "metadata": {
        "colab": {
          "base_uri": "https://localhost:8080/"
        },
        "id": "uE27_RKNOxSD",
        "outputId": "f1a77b01-f942-429a-e17b-e2335ea0c6b7"
      },
      "outputs": [
        {
          "output_type": "stream",
          "name": "stdout",
          "text": [
            "Top-1 val acc: 0.672\n"
          ]
        }
      ],
      "source": [
        "print('Top-1 val acc: %.3f' % predictor.fit_summary()['valid_acc'])"
      ]
    },
    {
      "cell_type": "code",
      "execution_count": 16,
      "metadata": {
        "colab": {
          "base_uri": "https://localhost:8080/"
        },
        "id": "WcoSVH4BO1sc",
        "outputId": "1173093c-adfc-4171-b89e-ef2f6cc187ba"
      },
      "outputs": [
        {
          "output_type": "stream",
          "name": "stdout",
          "text": [
            "0      2\n",
            "1      2\n",
            "2      0\n",
            "3      0\n",
            "4      0\n",
            "      ..\n",
            "156    3\n",
            "157    3\n",
            "158    3\n",
            "159    3\n",
            "160    3\n",
            "Name: label, Length: 161, dtype: int64\n"
          ]
        }
      ],
      "source": [
        "test_dataset = ImageDataset.from_folder('/content/drive/MyDrive/Eye Diseases Virus Dateset Vol 1/Dataset v.2/test')\n",
        "pred = predictor.predict(test_dataset)\n",
        "print(pred)"
      ]
    },
    {
      "cell_type": "code",
      "execution_count": 17,
      "metadata": {
        "colab": {
          "base_uri": "https://localhost:8080/"
        },
        "id": "GIhSjHXLO4H7",
        "outputId": "bc97b988-de03-44d8-82bc-907347f54946"
      },
      "outputs": [
        {
          "output_type": "stream",
          "name": "stderr",
          "text": [
            "INFO:TorchImageClassificationEstimator:[Epoch 1] validation: top1=0.782609 top5=1.000000\n"
          ]
        }
      ],
      "source": [
        "score = predictor.evaluate(test_dataset)"
      ]
    },
    {
      "cell_type": "code",
      "execution_count": 18,
      "metadata": {
        "colab": {
          "base_uri": "https://localhost:8080/"
        },
        "id": "Z2phFgLSO6fF",
        "outputId": "a70b7f2f-48d3-4122-ebf6-efac3591890a"
      },
      "outputs": [
        {
          "output_type": "stream",
          "name": "stdout",
          "text": [
            "{'loss': 0.5983071040292705, 'top1': 0.782608695652174, 'top5': 1.0}\n"
          ]
        }
      ],
      "source": [
        "print(score)"
      ]
    },
    {
      "cell_type": "code",
      "execution_count": 19,
      "metadata": {
        "colab": {
          "base_uri": "https://localhost:8080/"
        },
        "id": "MEoSeU_JO8gF",
        "outputId": "d6063a53-e595-40d8-ee8a-ece94f904d34"
      },
      "outputs": [
        {
          "output_type": "stream",
          "name": "stdout",
          "text": [
            "[[12  1  5  0]\n",
            " [ 0 24  1  2]\n",
            " [ 9 10 22  2]\n",
            " [ 0  2  3 68]]\n"
          ]
        }
      ],
      "source": [
        "from sklearn.metrics import confusion_matrix\n",
        "ans = test_dataset.label\n",
        "cm = confusion_matrix(pred,ans)\n",
        "print(cm)"
      ]
    }
  ],
  "metadata": {
    "colab": {
      "provenance": []
    },
    "kernelspec": {
      "display_name": "Python 3",
      "name": "python3"
    },
    "language_info": {
      "name": "python"
    }
  },
  "nbformat": 4,
  "nbformat_minor": 0
}